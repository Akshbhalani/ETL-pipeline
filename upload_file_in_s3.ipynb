{
 "cells": [
  {
   "cell_type": "code",
   "execution_count": 15,
   "id": "1c39458e-3443-406c-80c7-db047dd6ab22",
   "metadata": {},
   "outputs": [],
   "source": [
    "import psycopg2\n",
    "import pandas as pd\n",
    "import boto3\n",
    "from io import StringIO\n",
    "import json\n",
    "from sqlalchemy import create_engine\n",
    "import urllib.parse"
   ]
  },
  {
   "cell_type": "code",
   "execution_count": 16,
   "id": "d57153fa-7131-44e5-a9e6-d6d8f73a4878",
   "metadata": {},
   "outputs": [],
   "source": [
    "from configparser import ConfigParser"
   ]
  },
  {
   "cell_type": "code",
   "execution_count": 17,
   "id": "8f1f8b36-a316-4692-b376-76c794f480f5",
   "metadata": {},
   "outputs": [],
   "source": [
    "def credentialFile(file_path):\n",
    "    with open(file_path, 'r') as file:\n",
    "        return json.load(file)"
   ]
  },
  {
   "cell_type": "code",
   "execution_count": 18,
   "id": "ef053134-e6f7-4c79-ac7b-223adee6e840",
   "metadata": {},
   "outputs": [],
   "source": [
    "def config(filename = \"database.ini\", section = \"postgresql\"):\n",
    "    parser = ConfigParser()\n",
    "    parser.read(filename)\n",
    "    db = {}\n",
    "\n",
    "    if parser.has_section(section):\n",
    "        params = parser.items(section)\n",
    "        for param in params:\n",
    "            db[param[0]] = param[1]\n",
    "    else:\n",
    "        raise Exception(f\"section {section} not found in the {filename} file....\")\n",
    "\n",
    "\n",
    "    return db"
   ]
  },
  {
   "cell_type": "code",
   "execution_count": 19,
   "id": "c20c842d-a9f8-4565-8913-7eb9ea120965",
   "metadata": {},
   "outputs": [],
   "source": [
    "def connect_to_db():\n",
    "    try:\n",
    "        params = config()\n",
    "        connection = psycopg2.connect(**params)\n",
    "        print(\"Database connect successfully....\")\n",
    "        return connection\n",
    "    except Exception as e:\n",
    "        print(f\"Error while connecting to Database : {e}\")\n",
    "        return None"
   ]
  },
  {
   "cell_type": "code",
   "execution_count": 20,
   "id": "65693644-d605-4adf-9578-d651d625a002",
   "metadata": {},
   "outputs": [],
   "source": [
    "def fetch_records(connection):\n",
    "    try:\n",
    "        cursor = connection.cursor()\n",
    "        cursor.execute(f'SELECT * FROM \"SuperStoreSalingData\"')\n",
    "        records = cursor.fetchall()\n",
    "        # return records\n",
    "\n",
    "        columns = []\n",
    "        for desc in cursor.description:\n",
    "            columns.append(desc[0])\n",
    "\n",
    "        df = pd.DataFrame(records, columns=columns)\n",
    "\n",
    "        return df\n",
    "        \n",
    "    except Exception as e:\n",
    "        print(f\"Error while fetching records : {e}\")\n",
    "        return None\n",
    "    finally:\n",
    "        cursor.close()"
   ]
  },
  {
   "cell_type": "code",
   "execution_count": 21,
   "id": "52ac951d-4222-42e5-9e64-54e4489f2ead",
   "metadata": {},
   "outputs": [],
   "source": [
    "def upload_dataframe_to_s3(dataframe, bucket, file_key, credentials_file):\n",
    "    \n",
    "    \n",
    "    # Load AWS credentials\n",
    "    credentials = credentialFile(credentials_file)\n",
    "\n",
    "    # Initialize S3 client\n",
    "    s3_client = boto3.client(\n",
    "        's3',\n",
    "        aws_access_key_id=credentials['aws_access_key_id'],\n",
    "        aws_secret_access_key=credentials['aws_secret_access_key'],\n",
    "        region_name=credentials['region_name']\n",
    "    )\n",
    "\n",
    "    try:\n",
    "       \n",
    "        # Convert the DataFrame to a CSV string\n",
    "        \n",
    "        csv_buffer = StringIO()\n",
    "        dataframe.to_csv(csv_buffer, index=False)\n",
    "        csv_buffer.seek(0)\n",
    "        \n",
    "        s3_client.put_object(Bucket=bucket, Body=csv_buffer.getvalue(), Key= file_key)\n",
    "        print(f\"DataFrame {file_key} uploaded to S3 successfully.\")\n",
    "        \n",
    "    except Exception as e:\n",
    "        print(f\"Error uploading DataFrame to S3: {e}\")"
   ]
  },
  {
   "cell_type": "code",
   "execution_count": 3,
   "id": "1b596083-18d3-46f9-b2df-0c71d7175f6e",
   "metadata": {},
   "outputs": [],
   "source": [
    "def main():\n",
    "    connection = connect_to_db()\n",
    "\n",
    "    if connection:\n",
    "        try:\n",
    "            df = fetch_records(connection)\n",
    "\n",
    "            if df is not None: \n",
    "                bucket = 'bucket_name'\n",
    "                file_key = 'file_name'\n",
    "                credentials_file = 'credential_file_name'\n",
    "                upload_dataframe_to_s3(df, bucket, file_key, credentials_file)\n",
    "\n",
    "        except Exception as e:\n",
    "            print(f\"Error while fetching data : {e}\")\n",
    "\n",
    "        finally:\n",
    "            connection.close()\n",
    "            print(\"database connection closed....\")"
   ]
  },
  {
   "cell_type": "code",
   "execution_count": 27,
   "id": "1d323a8e-8e9d-4ce8-8d0d-ef623a98aacd",
   "metadata": {},
   "outputs": [
    {
     "name": "stdout",
     "output_type": "stream",
     "text": [
      "Database connect successfully....\n",
      "database connection closed....\n"
     ]
    }
   ],
   "source": [
    "if __name__ == \"__main__\":\n",
    "    main()"
   ]
  },
  {
   "cell_type": "code",
   "execution_count": 11,
   "id": "8540e4cf-cd31-4e14-b5a0-75abedd698b2",
   "metadata": {},
   "outputs": [],
   "source": []
  },
  {
   "cell_type": "code",
   "execution_count": null,
   "id": "4cba66c6-10f4-487d-951f-5f0b71b75030",
   "metadata": {},
   "outputs": [],
   "source": []
  },
  {
   "cell_type": "code",
   "execution_count": null,
   "id": "b8ae0c4b-828b-4004-bf85-c82d45887a8a",
   "metadata": {},
   "outputs": [],
   "source": []
  }
 ],
 "metadata": {
  "kernelspec": {
   "display_name": "Python 3 (ipykernel)",
   "language": "python",
   "name": "python3"
  },
  "language_info": {
   "codemirror_mode": {
    "name": "ipython",
    "version": 3
   },
   "file_extension": ".py",
   "mimetype": "text/x-python",
   "name": "python",
   "nbconvert_exporter": "python",
   "pygments_lexer": "ipython3",
   "version": "3.11.7"
  }
 },
 "nbformat": 4,
 "nbformat_minor": 5
}
